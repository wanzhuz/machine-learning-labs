{
 "cells": [
  {
   "cell_type": "markdown",
   "id": "04a5dd47",
   "metadata": {},
   "source": [
    "Lab1: Complete the TODO parts in the following code. \n",
    "- Using California Housing Dataset from sklearn, select input attributes 1,3,4  as the input features. \n",
    "- Using K-fold cross validation technique (https://scikit-learn.org/stable/modules/generated/sklearn.model_selection.KFold.html), complete the implementation to train a regression model and report performance merics when asked in the following code. \n",
    "- For multiple degrees of model complexity (i.e., degree of polynomial in this exercise) in a for-loop, obtain the model with the minimum reducible_error, polynomial degree, and run the obtained model on the test data. For this part,you should use the split the data into train and test by [75:25] rate and report mse of the final model on test data. \n",
    "- Analyse the results of model performance according to different degrees of polynomial and the number of folds used. You can manipulate the code and share your analysis in terms of the performance of the model (mse and total error), such as for instnace which degree of the model complexity (in relation to the polynomial order) would give a better model? Feel free to include other analysis about the generated models in relation to their performance results. You can event plot the results to support your analysis. "
   ]
  },
  {
   "cell_type": "code",
   "execution_count": 7,
   "id": "589fec24",
   "metadata": {},
   "outputs": [],
   "source": [
    "import numpy as np\n",
    "from sklearn.model_selection import KFold\n",
    "from sklearn.model_selection import train_test_split\n",
    "from sklearn.linear_model import LinearRegression\n",
    "from sklearn.metrics import mean_squared_error, explained_variance_score, r2_score\n",
    "from sklearn.preprocessing import PolynomialFeatures\n",
    "from sklearn.datasets import fetch_california_housing"
   ]
  },
  {
   "cell_type": "code",
   "execution_count": 24,
   "id": "daf6ca81",
   "metadata": {},
   "outputs": [],
   "source": [
    "def polynomial_regression(degree, X, y, folds, test_size=0.25, random_state=None):\n",
    "    # Define number of folds for cross-validation\n",
    "    kf = KFold(folds)\n",
    "\n",
    "    # Initialize lists to store results for variance, bias2s, total_error, and models\n",
    "    variance = []\n",
    "    bias2s = []\n",
    "    total_error = []\n",
    "    models = []\n",
    "    \n",
    "    # Set the polynomial degree of the model\n",
    "    poly_features = PolynomialFeatures(degree)\n",
    "    X_poly = poly_features.fit_transform(X)\n",
    "\n",
    "    # Perform cross-validation\n",
    "    for train_index, test_index in kf.split(X_poly):\n",
    "        # Split data into training and testing sets for this fold\n",
    "        X_train, X_test = X_poly[train_index], X_poly[test_index]\n",
    "        y_train, y_test = y[train_index], y[test_index]\n",
    "\n",
    "        # Fit polynomial regression model\n",
    "        model = LinearRegression()\n",
    "        model.fit(X_train, y_train)\n",
    "\n",
    "        # Make predictions on the test set\n",
    "        y_pred = model.predict(X_test)\n",
    "\n",
    "        # Calculate variance and R^2 for this fold\n",
    "        var = explained_variance_score(y_test, y_pred)\n",
    "        r2 = r2_score(y_test, y_pred)\n",
    "        bias2 = mean_squared_error(y_test, y_pred)\n",
    "        \n",
    "        # Append results to lists\n",
    "        variance.append(var)\n",
    "        bias2s.append(bias2)\n",
    "        total_error.append(bias2 + var)\n",
    "        models.append(model)\n",
    "\n",
    "        # Print results for this fold\n",
    "        print(\"Variance: {:.4f}, Bias2: {:.4f}, Total error: {:.4f}\".format(var, bias2, var + bias2))\n",
    "\n",
    "    # print the total_error of the best model\n",
    "    min_error_index = np.argmin(total_error)\n",
    "    best_model = models[min_error_index]\n",
    "    print(\"Total Error of Best Model:\", total_error[min_error_index])\n",
    "\n",
    "    # Testing the final model on the test data\n",
    "    X_train, X_test, y_train, y_test = train_test_split(X_poly, y, test_size=test_size, random_state=42)\n",
    "    # Obtain the predictions on the test data\n",
    "    y_test_pred = best_model.predict(X_test)\n",
    "    \n",
    "    # store mse score of the model applied on the test data\n",
    "    mse = mean_squared_error(y_test, y_test_pred)\n",
    "    \n",
    "\n",
    "    return mse , best_model"
   ]
  },
  {
   "cell_type": "code",
   "execution_count": 26,
   "id": "411fbf41",
   "metadata": {},
   "outputs": [
    {
     "name": "stdout",
     "output_type": "stream",
     "text": [
      "Variance: 0.5714, Bias2: 0.5454, Total error: 1.1168\n",
      "Variance: 0.4615, Bias2: 0.6744, Total error: 1.1359\n",
      "Variance: 0.4973, Bias2: 0.7296, Total error: 1.2268\n",
      "Variance: 0.3804, Bias2: 0.7385, Total error: 1.1190\n",
      "Variance: 0.5540, Bias2: 0.6649, Total error: 1.2189\n",
      "Total Error of Best Model: 1.1168039310180593\n",
      "Degree: 1 MSE: 0.6631111314294396\n",
      "Variance: 0.0711, Bias2: 1.0627, Total error: 1.1338\n",
      "Variance: 0.4939, Bias2: 0.6217, Total error: 1.1156\n",
      "Variance: 0.5124, Bias2: 0.7064, Total error: 1.2188\n",
      "Variance: 0.3932, Bias2: 0.7215, Total error: 1.1147\n",
      "Variance: 0.5793, Bias2: 0.6307, Total error: 1.2100\n",
      "Total Error of Best Model: 1.114740798455602\n",
      "Degree: 2 MSE: 0.624329168125288\n",
      "Variance: -9.6676, Bias2: 11.5136, Total error: 1.8461\n",
      "Variance: 0.5016, Bias2: 0.6084, Total error: 1.1099\n",
      "Variance: 0.4538, Bias2: 0.7873, Total error: 1.2411\n",
      "Variance: 0.3982, Bias2: 0.7130, Total error: 1.1112\n",
      "Variance: 0.5993, Bias2: 0.6016, Total error: 1.2009\n",
      "Total Error of Best Model: 1.1099270673042758\n",
      "Degree: 3 MSE: 0.6108426077953893\n",
      "Variance: -1628.0510, Bias2: 1750.3564, Total error: 122.3054\n",
      "Variance: 0.5005, Bias2: 0.6041, Total error: 1.1046\n",
      "Variance: 0.4278, Bias2: 0.8243, Total error: 1.2521\n",
      "Variance: 0.4095, Bias2: 0.6971, Total error: 1.1066\n",
      "Variance: 0.5936, Bias2: 0.6101, Total error: 1.2037\n",
      "Total Error of Best Model: 1.1045820598700646\n",
      "Degree: 4 MSE: 0.5967913426237139\n",
      "Variance: -392629.9451, Bias2: 421980.8588, Total error: 29350.9137\n",
      "Variance: 0.4983, Bias2: 0.6047, Total error: 1.1030\n",
      "Variance: 0.2667, Bias2: 1.0558, Total error: 1.3224\n",
      "Variance: -0.0957, Bias2: 1.2924, Total error: 1.1966\n",
      "Variance: 0.5824, Bias2: 0.6256, Total error: 1.2079\n",
      "Total Error of Best Model: 1.1030307469740954\n",
      "Degree: 5 MSE: 0.591694556867519\n"
     ]
    }
   ],
   "source": [
    "# Example usage: load California Housing Dataset and select the first, third, and forth attributes as input features in X\n",
    "ca_housing = fetch_california_housing()\n",
    "X = ca_housing.data[:, [0, 2, 3]]\n",
    "# Set the target valiable \n",
    "y = ca_housing.target\n",
    "\n",
    "degrees = range(1, 6)  # Try polynomial degrees from 1 to 5\n",
    "# Try degrees from 1 to 5 and in a loop, report mse of the best model trained using k-fold cross validation and print(\"Degree:\", degree, \"MSE:\", mse)\n",
    "for degree in degrees:\n",
    "    mse, _ = polynomial_regression(degree, X, y, folds=5)\n",
    "    print(\"Degree:\", degree, \"MSE:\", mse)"
   ]
  },
  {
   "cell_type": "code",
   "execution_count": null,
   "id": "74a5bfeb",
   "metadata": {},
   "outputs": [],
   "source": []
  }
 ],
 "metadata": {
  "kernelspec": {
   "display_name": "Python 3 (ipykernel)",
   "language": "python",
   "name": "python3"
  },
  "language_info": {
   "codemirror_mode": {
    "name": "ipython",
    "version": 3
   },
   "file_extension": ".py",
   "mimetype": "text/x-python",
   "name": "python",
   "nbconvert_exporter": "python",
   "pygments_lexer": "ipython3",
   "version": "3.7.9"
  }
 },
 "nbformat": 4,
 "nbformat_minor": 5
}
